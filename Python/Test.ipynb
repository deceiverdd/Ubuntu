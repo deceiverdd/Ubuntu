{
 "cells": [
  {
   "cell_type": "code",
   "execution_count": 14,
   "metadata": {},
   "outputs": [
    {
     "name": "stdout",
     "output_type": "stream",
     "text": [
      "[[0. 0. 0. 0.]\n",
      " [0. 0. 0. 0.]\n",
      " [0. 0. 0. 0.]] \n",
      "\n",
      "(3, 4) \n",
      "\n",
      "row = 3 col = 4\n",
      "shape[0] = 3 shape[1] = 4\n",
      "[[[[ 0.01934916  1.16964457 -0.12641675 -0.30521011]\n",
      "   [ 0.85746192  0.31243334  0.06193005 -0.42120835]\n",
      "   [ 0.21155033  0.21362612  0.47829532  0.84257123]\n",
      "   [ 1.18700651  0.56728765  0.11336449  0.86058553]]\n",
      "\n",
      "  [[ 0.10120195  0.38176916  1.58339378 -0.48825006]\n",
      "   [-0.91004872 -0.45102704 -1.07331661  0.57775667]\n",
      "   [-2.17895603  0.78644226 -1.4154201  -1.07915503]\n",
      "   [ 0.58948573  0.701732   -1.00357428 -0.09790773]]\n",
      "\n",
      "  [[-0.60860248 -1.16823226  1.61854717 -0.24747044]\n",
      "   [-1.37311872 -0.21058601 -3.472357    0.16171962]\n",
      "   [ 1.68405396 -0.06280825  0.1300595  -0.41751964]\n",
      "   [-0.67095092 -1.2471824   2.28075191  1.13906671]]]\n",
      "\n",
      "\n",
      " [[[ 0.65715338 -0.20700326 -0.19220332  0.09660482]\n",
      "   [-0.91937318 -0.63076721  1.86636081 -0.52694989]\n",
      "   [-0.40264738  0.19777289 -1.04258101 -0.08794426]\n",
      "   [ 1.45938549 -1.73292748  1.95841546 -0.34999321]]\n",
      "\n",
      "  [[ 2.11306414 -0.5999674   1.99127484 -0.35109938]\n",
      "   [ 1.39758864  0.03606266 -0.40516276  0.75725811]\n",
      "   [-0.30858068 -2.0630946   0.72001356  0.8621725 ]\n",
      "   [ 1.46182079  0.71567014 -1.69328402 -0.65656605]]\n",
      "\n",
      "  [[ 1.28005582  0.59037355 -0.16901602  0.20182206]\n",
      "   [ 0.53783489  0.06645706  0.08743187 -0.7688995 ]\n",
      "   [ 0.91742128  0.9945232  -0.68598188 -0.65681504]\n",
      "   [ 1.46933431  1.31903298  0.46442605 -0.52890507]]]]\n"
     ]
    },
    {
     "data": {
      "text/plain": [
       "array([0., 0., 0., 0., 0.])"
      ]
     },
     "execution_count": 14,
     "metadata": {},
     "output_type": "execute_result"
    }
   ],
   "source": [
    "import numpy\n",
    "\n",
    "a = numpy.zeros([3,4])\n",
    "\n",
    "print(a,\"\\n\")\n",
    "\n",
    "print(a.shape,\"\\n\")\n",
    "\n",
    "row,col = a.shape\n",
    "\n",
    "print(\"row =\",row,\"col =\",col)\n",
    "\n",
    "print(\"shape[0] =\",a.shape[0],\"shape[1] =\",a.shape[1])\n",
    "\n",
    "w = numpy.random.randn(2, 3, 4, 4)\n",
    "print(w)\n",
    "\n",
    "b = numpy.zeros((5))\n",
    "b"
   ]
  },
  {
   "cell_type": "code",
   "execution_count": 20,
   "metadata": {},
   "outputs": [
    {
     "name": "stdout",
     "output_type": "stream",
     "text": [
      "[[0. 0. 0.]\n",
      " [0. 0. 0.]\n",
      " [0. 0. 0.]]\n",
      "[[0. 0. 0.]\n",
      " [0. 0. 0.]\n",
      " [0. 0. 0.]]\n"
     ]
    }
   ],
   "source": [
    "def conv2(X, k): \n",
    "    x_row, x_col = X.shape \n",
    "    k_row, k_col = k.shape \n",
    "    ret_row, ret_col = x_row - k_row + 1, x_col - k_col + 1 \n",
    "    ret = numpy.empty((ret_row, ret_col)) \n",
    "    for y in range(ret_row): \n",
    "        for x in range(ret_col): \n",
    "            sub = X[y : y + k_row, x : x + k_col] \n",
    "            ret[y,x] = numpy.sum(sub * k) \n",
    "    return ret\n",
    "\n",
    "a = numpy.zeros([5,5])\n",
    "\n",
    "b = numpy.zeros([3,3])\n",
    "\n",
    "print(conv2(a,b))\n",
    "\n",
    "c = numpy.zeros((3))\n",
    "\n",
    "print(conv2(a,b)+c)\n"
   ]
  },
  {
   "cell_type": "code",
   "execution_count": 28,
   "metadata": {},
   "outputs": [
    {
     "name": "stdout",
     "output_type": "stream",
     "text": [
      "[[1. 0. 0.]\n",
      " [0. 0. 0.]\n",
      " [0. 2. 0.]]\n",
      "7\n"
     ]
    }
   ],
   "source": [
    "a = numpy.zeros([3,3])\n",
    "\n",
    "a[0,0] = 1\n",
    "a[2,1] = 2\n",
    "\n",
    "print(a)\n",
    "print(numpy.argmax(a))"
   ]
  }
 ],
 "metadata": {
  "kernelspec": {
   "display_name": "Python 3",
   "language": "python",
   "name": "python3"
  },
  "language_info": {
   "codemirror_mode": {
    "name": "ipython",
    "version": 3
   },
   "file_extension": ".py",
   "mimetype": "text/x-python",
   "name": "python",
   "nbconvert_exporter": "python",
   "pygments_lexer": "ipython3",
   "version": "3.7.0"
  }
 },
 "nbformat": 4,
 "nbformat_minor": 2
}
